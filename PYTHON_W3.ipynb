{
 "cells": [
  {
   "cell_type": "code",
   "execution_count": 1,
   "id": "37fbc0bc-698c-43f7-9e3b-2f5d2c31924e",
   "metadata": {},
   "outputs": [
    {
     "name": "stdout",
     "output_type": "stream",
     "text": [
      "Hello World!\n"
     ]
    }
   ],
   "source": [
    "print('Hello World!')"
   ]
  },
  {
   "cell_type": "code",
   "execution_count": 5,
   "id": "33788fe8-f4ef-45e9-a87e-8ff66d178d9c",
   "metadata": {},
   "outputs": [
    {
     "name": "stdout",
     "output_type": "stream",
     "text": [
      "123 678\n",
      "None\n",
      "None\n"
     ]
    }
   ],
   "source": [
    "print(print(print('123',678)))"
   ]
  },
  {
   "cell_type": "code",
   "execution_count": 6,
   "id": "de7f6ddb-b0e5-4552-a846-3414d75abbee",
   "metadata": {},
   "outputs": [
    {
     "name": "stdout",
     "output_type": "stream",
     "text": [
      "3.11.7 | packaged by Anaconda, Inc. | (main, Dec 15 2023, 18:05:47) [MSC v.1916 64 bit (AMD64)]\n"
     ]
    }
   ],
   "source": [
    "import sys \n",
    "print(sys.version)"
   ]
  },
  {
   "cell_type": "code",
   "execution_count": 12,
   "id": "3c10b9b5-b7cb-4277-9370-25d5df0d874d",
   "metadata": {},
   "outputs": [
    {
     "name": "stdout",
     "output_type": "stream",
     "text": [
      "3\n",
      "<class 'int'>\n",
      "oiudfafs hdks \n"
     ]
    }
   ],
   "source": [
    "#variables\n",
    "x = 3\n",
    "print(x)\n",
    "print(type(x))\n",
    "y = 'oiudfafs hdks '\n",
    "print(y)"
   ]
  },
  {
   "cell_type": "code",
   "execution_count": 11,
   "id": "6b8ac8c6-49fd-4dfb-b75e-4a73f7821d98",
   "metadata": {},
   "outputs": [
    {
     "name": "stdout",
     "output_type": "stream",
     "text": [
      "<class 'float'>\n",
      "<class 'str'>\n"
     ]
    }
   ],
   "source": [
    "#casting\n",
    "print(type(float(x)))\n",
    "print(type(str(x)))"
   ]
  },
  {
   "cell_type": "code",
   "execution_count": 16,
   "id": "9b2f58ac-5f32-4dac-a1cc-255eaf3288b7",
   "metadata": {},
   "outputs": [
    {
     "name": "stdout",
     "output_type": "stream",
     "text": [
      "apple bannana cherry\n",
      "5 5 5\n",
      "6 5 5\n"
     ]
    }
   ],
   "source": [
    "#multiple variables\n",
    "x, y , z = 'apple', 'bannana', 'cherry'\n",
    "print(x,y,z)\n",
    "\n",
    "x = y = z = 5\n",
    "print(x,y,z)\n",
    "x = 6\n",
    "print(x,y,z)"
   ]
  },
  {
   "cell_type": "code",
   "execution_count": 22,
   "id": "69bdaecf-a633-4e11-a365-dae56c55d8f8",
   "metadata": {},
   "outputs": [
    {
     "name": "stdout",
     "output_type": "stream",
     "text": [
      "watermelon grapes peach apple\n"
     ]
    }
   ],
   "source": [
    "#unpack a collection\n",
    "fruits = {'apple', 'grapes', 'watermelon','peach'}\n",
    "w,x,y,z = fruits\n",
    "print(w,x,y,z)"
   ]
  },
  {
   "cell_type": "code",
   "execution_count": 23,
   "id": "03c9d4e3-7ffd-43bc-9581-b607c882a08c",
   "metadata": {},
   "outputs": [
    {
     "name": "stdout",
     "output_type": "stream",
     "text": [
      "3\n",
      "12\n",
      "1 2\n"
     ]
    }
   ],
   "source": [
    "#output\n",
    "\n",
    "print(1+2)\n",
    "print('1'+'2')\n",
    "print('1','2')"
   ]
  },
  {
   "cell_type": "code",
   "execution_count": null,
   "id": "1fbde469-1da6-4162-a6f2-849e67169609",
   "metadata": {},
   "outputs": [],
   "source": []
  }
 ],
 "metadata": {
  "kernelspec": {
   "display_name": "Python 3 (ipykernel)",
   "language": "python",
   "name": "python3"
  },
  "language_info": {
   "codemirror_mode": {
    "name": "ipython",
    "version": 3
   },
   "file_extension": ".py",
   "mimetype": "text/x-python",
   "name": "python",
   "nbconvert_exporter": "python",
   "pygments_lexer": "ipython3",
   "version": "3.11.7"
  }
 },
 "nbformat": 4,
 "nbformat_minor": 5
}
